{
 "cells": [
  {
   "cell_type": "markdown",
   "id": "5d160bc8-1304-408e-8cab-e950ffb99b76",
   "metadata": {},
   "source": [
    "# Soil Moisture Sensor Calculations"
   ]
  },
  {
   "cell_type": "markdown",
   "id": "0b1f10cf-16eb-4f67-8a24-e23ce2b8280f",
   "metadata": {
    "tags": []
   },
   "source": [
    "## Coplanar Capacitance Calculation\n",
    "- Equation from [here](https://www.emisoftware.com/calculator/coplanar-capacitance/)"
   ]
  },
  {
   "cell_type": "code",
   "execution_count": 3,
   "id": "da2db386-c0ba-4701-b53a-e54bce85501f",
   "metadata": {},
   "outputs": [],
   "source": [
    "from scipy.special import ellipk\n",
    "import numpy as np"
   ]
  },
  {
   "cell_type": "code",
   "execution_count": 30,
   "id": "8b60e85c-f057-4346-a121-6368af9f0587",
   "metadata": {},
   "outputs": [],
   "source": [
    "w = 4e-3 # plate width in (m)\n",
    "s = 2.3e-3 # separation of plate edges (m)\n",
    "l = 120e-3 # plate length (m)"
   ]
  },
  {
   "cell_type": "code",
   "execution_count": 31,
   "id": "4999dca7-2e23-4de6-8e93-756161b9644b",
   "metadata": {},
   "outputs": [],
   "source": [
    "v0 = 3.0e8 # speed of light (m/s)"
   ]
  },
  {
   "cell_type": "code",
   "execution_count": 32,
   "id": "620e6f92-83a8-47a1-ab41-9c06418fc23f",
   "metadata": {},
   "outputs": [
    {
     "name": "stdout",
     "output_type": "stream",
     "text": [
      "s/(s+2*w): 0.223\n",
      "Cutoff: 0.707\n"
     ]
    }
   ],
   "source": [
    "nrmDim = s/(s+2*w)\n",
    "print(f's/(s+2*w): {nrmDim:.3f}')\n",
    "print(f'Cutoff: {1/np.sqrt(2):.3f}')"
   ]
  },
  {
   "cell_type": "code",
   "execution_count": 33,
   "id": "f5bbed0d-4eb1-4d6a-bee0-6454e1b2e582",
   "metadata": {},
   "outputs": [],
   "source": [
    "if nrmDim > 0 and nrmDim <= 1/np.sqrt(2):\n",
    "    \n",
    "    cDvE = l*np.log( -2*((1-s**2/(s+2*w)**2)**(1/4)+1) / ((1-s**2/(s+2*w)**2)**(1/4)-1) ) / (377*np.pi*v0)\n",
    "    \n",
    "    \n",
    "elif nrmDim > 1/np.sqrt(2) and nrmDim <= 1:\n",
    "    \n",
    "    cDvE = l / (120*v0*np.log( -2*((s/(s+2*w))**(1/2)+1)/((s/(s+2*w))**(1/2)-1) ))  \n",
    "    \n",
    "    \n",
    "else:\n",
    "    print('Error! s/(s+2*w) out of range.')\n",
    "\n",
    "\n"
   ]
  },
  {
   "cell_type": "code",
   "execution_count": 34,
   "id": "48cf5d26-0a01-492e-8b3c-c2f4b79a1c63",
   "metadata": {},
   "outputs": [
    {
     "name": "stdout",
     "output_type": "stream",
     "text": [
      "Capacitance:\n",
      " Air: 1.940 pF\n",
      " Dry Soil: 5.821 pF\n",
      " Water: 155.237 pF\n"
     ]
    }
   ],
   "source": [
    "print('Capacitance:')\n",
    "print(f' Air: {cDvE*1e12:.3f} pF')\n",
    "print(f' Dry Soil: {cDvE*1e12*3:.3f} pF')\n",
    "print(f' Water: {cDvE*1e12*80:.3f} pF')\n",
    "\n",
    "\n"
   ]
  },
  {
   "cell_type": "code",
   "execution_count": null,
   "id": "608d6ccc-a81f-47b4-9635-d0df89e3193f",
   "metadata": {},
   "outputs": [],
   "source": []
  },
  {
   "cell_type": "markdown",
   "id": "4e9b1909-3456-4898-9913-5e2e42343577",
   "metadata": {},
   "source": [
    "## Circuit Design"
   ]
  },
  {
   "cell_type": "code",
   "execution_count": 35,
   "id": "201bb036-fe4b-427c-bf0d-328eae993ae4",
   "metadata": {},
   "outputs": [],
   "source": [
    "r = 1e6"
   ]
  },
  {
   "cell_type": "code",
   "execution_count": 36,
   "id": "50f4d8ac-4fc1-4355-983d-d384642167c0",
   "metadata": {},
   "outputs": [
    {
     "name": "stdout",
     "output_type": "stream",
     "text": [
      "Time Constant:\n",
      " Air: 1.94e-06 s\n",
      " Dry Soil: 5.82e-06 s\n",
      " Water: 0.000155 s\n"
     ]
    }
   ],
   "source": [
    "print('Time Constant:')\n",
    "print(f' Air: {cDvE*r:.3g} s')\n",
    "print(f' Dry Soil: {cDvE*r*3:.3g} s')\n",
    "print(f' Water: {cDvE*r*80:.3g} s')\n"
   ]
  },
  {
   "cell_type": "code",
   "execution_count": null,
   "id": "d39ba898-b97c-4fa7-bf91-b96e8992bb65",
   "metadata": {},
   "outputs": [],
   "source": []
  },
  {
   "cell_type": "code",
   "execution_count": null,
   "id": "f46243c9-688c-48b8-a232-0a570c756198",
   "metadata": {},
   "outputs": [],
   "source": []
  }
 ],
 "metadata": {
  "kernelspec": {
   "display_name": "Python 3 (ipykernel)",
   "language": "python",
   "name": "python3"
  },
  "language_info": {
   "codemirror_mode": {
    "name": "ipython",
    "version": 3
   },
   "file_extension": ".py",
   "mimetype": "text/x-python",
   "name": "python",
   "nbconvert_exporter": "python",
   "pygments_lexer": "ipython3",
   "version": "3.9.7"
  }
 },
 "nbformat": 4,
 "nbformat_minor": 5
}
