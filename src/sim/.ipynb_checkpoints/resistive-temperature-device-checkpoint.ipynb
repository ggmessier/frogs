{
 "cells": [
  {
   "cell_type": "markdown",
   "id": "4f40d02a-0546-42ff-9759-b9fbd36aa11a",
   "metadata": {},
   "source": [
    "# Resistive Temperature Device (RTD) Instrumentation "
   ]
  },
  {
   "cell_type": "code",
   "execution_count": 1,
   "id": "7f30e4b2-7900-4fbc-82a1-317a0d007b83",
   "metadata": {},
   "outputs": [],
   "source": [
    "import numpy as np"
   ]
  },
  {
   "cell_type": "code",
   "execution_count": null,
   "id": "a6addbc7-c368-4fa7-b115-556945debd9b",
   "metadata": {},
   "outputs": [],
   "source": []
  },
  {
   "cell_type": "markdown",
   "id": "a3ab1a09-18b9-49ca-8d5e-9745ec0d7c32",
   "metadata": {},
   "source": [
    "### Measured Resistances"
   ]
  },
  {
   "cell_type": "code",
   "execution_count": 4,
   "id": "623fd746-b63f-46d9-9890-858a08ed870f",
   "metadata": {},
   "outputs": [],
   "source": [
    "rIce = 101 # Ice Bath\n",
    "rRoom = 107# Room Temperature\n",
    "rBody = 113  # Body Temperature\n",
    "rO = 100 # Ideal RTD resistance at 0C"
   ]
  },
  {
   "cell_type": "code",
   "execution_count": 5,
   "id": "146c5689-e167-4757-bc49-b340144511cc",
   "metadata": {},
   "outputs": [],
   "source": [
    "rCal = rIce - rO"
   ]
  },
  {
   "cell_type": "code",
   "execution_count": null,
   "id": "c41b7cc0-e4d9-4bb6-8799-e9cf92152a9f",
   "metadata": {},
   "outputs": [],
   "source": []
  },
  {
   "cell_type": "markdown",
   "id": "14033cc9-1e62-4f3f-a024-003ac606d0ac",
   "metadata": {},
   "source": [
    "### Temperature Calculation"
   ]
  },
  {
   "cell_type": "code",
   "execution_count": null,
   "id": "954b5ecd-ca50-498d-9623-f1f9efb0bc29",
   "metadata": {},
   "outputs": [],
   "source": []
  },
  {
   "cell_type": "code",
   "execution_count": null,
   "id": "2523687b-37c0-4cee-bf8d-5752b1a15f6b",
   "metadata": {},
   "outputs": [],
   "source": []
  },
  {
   "cell_type": "code",
   "execution_count": null,
   "id": "c8af37c1-24e9-4ce7-9418-081745903ea0",
   "metadata": {},
   "outputs": [],
   "source": []
  },
  {
   "cell_type": "code",
   "execution_count": null,
   "id": "e55a96c6-9b1b-476c-b0c1-63c23b5161df",
   "metadata": {},
   "outputs": [],
   "source": []
  }
 ],
 "metadata": {
  "kernelspec": {
   "display_name": "Python 3 (ipykernel)",
   "language": "python",
   "name": "python3"
  },
  "language_info": {
   "codemirror_mode": {
    "name": "ipython",
    "version": 3
   },
   "file_extension": ".py",
   "mimetype": "text/x-python",
   "name": "python",
   "nbconvert_exporter": "python",
   "pygments_lexer": "ipython3",
   "version": "3.9.7"
  }
 },
 "nbformat": 4,
 "nbformat_minor": 5
}
