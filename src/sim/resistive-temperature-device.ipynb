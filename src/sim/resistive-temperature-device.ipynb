{
 "cells": [
  {
   "cell_type": "markdown",
   "id": "4f40d02a-0546-42ff-9759-b9fbd36aa11a",
   "metadata": {},
   "source": [
    "# Resistive Temperature Device (RTD) Instrumentation "
   ]
  },
  {
   "cell_type": "code",
   "execution_count": 1,
   "id": "7f30e4b2-7900-4fbc-82a1-317a0d007b83",
   "metadata": {},
   "outputs": [],
   "source": [
    "import numpy as np"
   ]
  },
  {
   "cell_type": "code",
   "execution_count": null,
   "id": "a6addbc7-c368-4fa7-b115-556945debd9b",
   "metadata": {},
   "outputs": [],
   "source": []
  },
  {
   "cell_type": "code",
   "execution_count": 2,
   "id": "0c065f2d-9bb7-4311-82ea-15232234f971",
   "metadata": {},
   "outputs": [],
   "source": [
    "rSeries = 2650 # Series resistance for the RTD.\n",
    "vDd = 3.3  # MCU Vdd\n",
    "aV = 16 # Internal amplifier voltage gain.\n",
    "t = np.arange(-50,50.5,0.5) # Desired temperature range.\n",
    "adcBits = 10 # Number of ADC bits."
   ]
  },
  {
   "cell_type": "code",
   "execution_count": null,
   "id": "c532c5dd-df62-4e27-a229-ffb9dfda19f8",
   "metadata": {},
   "outputs": [],
   "source": []
  },
  {
   "cell_type": "markdown",
   "id": "0561cf63-7a87-4076-b539-15f309d054a3",
   "metadata": {},
   "source": [
    "### Calibration\n",
    "---"
   ]
  },
  {
   "cell_type": "code",
   "execution_count": 3,
   "id": "4c9ec52a-537b-4fb3-a533-9c627d8c35e2",
   "metadata": {},
   "outputs": [],
   "source": [
    "vCal = []\n",
    "tCal = []\n",
    "\n",
    "vCal += [ 599 / 2**adcBits * vDd / aV ]\n",
    "tCal += [ 0 ]  # Ice water.\n",
    "vCal += [ 632 / 2**adcBits * vDd / aV ]\n",
    "tCal += [ 19.5 ] # Room temp.\n",
    "vCal += [ 667 / 2**adcBits * vDd / aV ]\n",
    "tCal += [ 37 ]  # Body temp.\n",
    "\n",
    "vCal = np.array(vCal)\n",
    "tCal = np.array(tCal)\n"
   ]
  },
  {
   "cell_type": "code",
   "execution_count": null,
   "id": "d7700450-a35e-4e86-afe0-287f76e16c33",
   "metadata": {},
   "outputs": [],
   "source": []
  },
  {
   "cell_type": "code",
   "execution_count": 4,
   "id": "5d23e394-274e-44e9-ad31-d43c1b7f9b88",
   "metadata": {},
   "outputs": [],
   "source": [
    "rCal = vCal/vDd*rSeries/(1-vCal/vDd)"
   ]
  },
  {
   "cell_type": "code",
   "execution_count": 5,
   "id": "25606b85-54be-47d6-90e6-15863c55211c",
   "metadata": {},
   "outputs": [],
   "source": [
    "y = rCal/rCal[0]\n",
    "x = np.transpose(np.array([ np.ones(3), np.ones(3)*tCal, np.ones(3)*tCal**2 ]))\n",
    "coefs = np.linalg.inv(x) @ y\n",
    "aCal = coefs[1]\n",
    "bCal = coefs[2]\n",
    "rOCal = rCal[0]"
   ]
  },
  {
   "cell_type": "code",
   "execution_count": null,
   "id": "7508c217-972a-47bf-a268-7a0bb8d6c161",
   "metadata": {},
   "outputs": [],
   "source": []
  },
  {
   "cell_type": "markdown",
   "id": "f9037902-0ab6-483a-ae40-7e120ea2e505",
   "metadata": {},
   "source": [
    "### Lookup Table\n",
    "---"
   ]
  },
  {
   "cell_type": "code",
   "execution_count": 6,
   "id": "d139afe6-ff8e-4dae-ac93-d6d392e7697e",
   "metadata": {},
   "outputs": [],
   "source": [
    "rRtd = rOCal*( 1 + aCal*t + bCal*(t**2) )"
   ]
  },
  {
   "cell_type": "code",
   "execution_count": 7,
   "id": "968b6a4c-3001-4f25-9ca8-1274461bf7e2",
   "metadata": {},
   "outputs": [],
   "source": [
    "vIn = rRtd/(rRtd+rSeries) * vDd"
   ]
  },
  {
   "cell_type": "code",
   "execution_count": 8,
   "id": "02fb5356-ed47-4bc0-b486-9010e79c154d",
   "metadata": {},
   "outputs": [],
   "source": [
    "adcVal = (2**adcBits * vIn/vDd * aV).astype('int')"
   ]
  },
  {
   "cell_type": "code",
   "execution_count": 9,
   "id": "eb240fa1-cdd8-4ec3-a520-d50ba901ce3a",
   "metadata": {},
   "outputs": [],
   "source": [
    "tFxPt = (t*2).astype('int')  # Represent temp as a Q7.1 fixed point number."
   ]
  },
  {
   "cell_type": "code",
   "execution_count": 10,
   "id": "ac895574-42e6-406c-ade0-13dfb11abba4",
   "metadata": {},
   "outputs": [
    {
     "name": "stdout",
     "output_type": "stream",
     "text": [
      "uint16_t rtdAdcToTemp[2][201] = {\n",
      "  { 543, 544, 544, 544, 545, 545, 545, 546, 546, 547, 547, 547, 548, 548, 548, 549, 549, 550, 550, 550, 551, 551, 552, 552, 553, 553, 554, 554, 554, 555, 555, 556, 556, 557, 557, 558, 558, 559, 559, 560, 560, 561, 561, 562, 562, 563, 563, 564, 564, 565, 566, 566, 567, 567, 568, 568, 569, 570, 570, 571, 571, 572, 573, 573, 574, 574, 575, 576, 576, 577, 577, 578, 579, 579, 580, 581, 581, 582, 583, 583, 584, 585, 585, 586, 587, 588, 588, 589, 590, 590, 591, 592, 593, 593, 594, 595, 595, 596, 597, 598, 599, 599, 600, 601, 602, 602, 603, 604, 605, 606, 606, 607, 608, 609, 610, 610, 611, 612, 613, 614, 615, 615, 616, 617, 618, 619, 620, 621, 622, 622, 623, 624, 625, 626, 627, 628, 629, 630, 631, 631, 632, 633, 634, 635, 636, 637, 638, 639, 640, 641, 642, 643, 644, 645, 646, 647, 648, 649, 650, 651, 652, 653, 654, 655, 656, 657, 658, 659, 660, 661, 662, 663, 664, 665, 666, 668, 669, 670, 671, 672, 673, 674, 675, 676, 677, 679, 680, 681, 682, 683, 684, 685, 686, 688, 689, 690, 691, 692, 693, 695, 696 },\n",
      "  { -100, -99, -98, -97, -96, -95, -94, -93, -92, -91, -90, -89, -88, -87, -86, -85, -84, -83, -82, -81, -80, -79, -78, -77, -76, -75, -74, -73, -72, -71, -70, -69, -68, -67, -66, -65, -64, -63, -62, -61, -60, -59, -58, -57, -56, -55, -54, -53, -52, -51, -50, -49, -48, -47, -46, -45, -44, -43, -42, -41, -40, -39, -38, -37, -36, -35, -34, -33, -32, -31, -30, -29, -28, -27, -26, -25, -24, -23, -22, -21, -20, -19, -18, -17, -16, -15, -14, -13, -12, -11, -10, -9, -8, -7, -6, -5, -4, -3, -2, -1, 0, 1, 2, 3, 4, 5, 6, 7, 8, 9, 10, 11, 12, 13, 14, 15, 16, 17, 18, 19, 20, 21, 22, 23, 24, 25, 26, 27, 28, 29, 30, 31, 32, 33, 34, 35, 36, 37, 38, 39, 40, 41, 42, 43, 44, 45, 46, 47, 48, 49, 50, 51, 52, 53, 54, 55, 56, 57, 58, 59, 60, 61, 62, 63, 64, 65, 66, 67, 68, 69, 70, 71, 72, 73, 74, 75, 76, 77, 78, 79, 80, 81, 82, 83, 84, 85, 86, 87, 88, 89, 90, 91, 92, 93, 94, 95, 96, 97, 98, 99, 100 }\n",
      "};\n"
     ]
    }
   ],
   "source": [
    "# Output table C initialization code.\n",
    "nTemp = len(tFxPt)\n",
    "print(f'uint16_t rtdAdcToTemp[2][{nTemp}] = {{\\n  {{',end='')\n",
    "\n",
    "for i in range(nTemp):\n",
    "    print(f' {adcVal[i]},',end='')\n",
    "print('\\b },\\n  {',end='')\n",
    "\n",
    "for i in range(nTemp):\n",
    "    print(f' {tFxPt[i]},',end='')\n",
    "print('\\b }\\n};')\n"
   ]
  },
  {
   "cell_type": "code",
   "execution_count": null,
   "id": "69da034e-2073-4f2d-b58d-2c3b0870d666",
   "metadata": {},
   "outputs": [],
   "source": []
  },
  {
   "cell_type": "markdown",
   "id": "f88f2d91-c48b-444c-960a-ea321806c95f",
   "metadata": {},
   "source": [
    "### Test\n",
    "---"
   ]
  },
  {
   "cell_type": "code",
   "execution_count": 11,
   "id": "7cabbd6c-b885-4782-a0cf-e4b225f1ad84",
   "metadata": {},
   "outputs": [
    {
     "data": {
      "text/plain": [
       "20.0"
      ]
     },
     "execution_count": 11,
     "metadata": {},
     "output_type": "execute_result"
    }
   ],
   "source": [
    "adcMeas = 632\n",
    "tIdx = np.argwhere(adcVal >= adcMeas)[:,0].min()\n",
    "t[tIdx]\n"
   ]
  },
  {
   "cell_type": "code",
   "execution_count": null,
   "id": "2c96123f-d8df-447f-9849-28b57d390e87",
   "metadata": {},
   "outputs": [],
   "source": []
  },
  {
   "cell_type": "code",
   "execution_count": null,
   "id": "9d014ad0-4cd5-40f8-8a5b-c9f6e2db72f0",
   "metadata": {},
   "outputs": [],
   "source": []
  }
 ],
 "metadata": {
  "kernelspec": {
   "display_name": "Python 3 (ipykernel)",
   "language": "python",
   "name": "python3"
  },
  "language_info": {
   "codemirror_mode": {
    "name": "ipython",
    "version": 3
   },
   "file_extension": ".py",
   "mimetype": "text/x-python",
   "name": "python",
   "nbconvert_exporter": "python",
   "pygments_lexer": "ipython3",
   "version": "3.9.7"
  }
 },
 "nbformat": 4,
 "nbformat_minor": 5
}
