{
 "cells": [
  {
   "cell_type": "markdown",
   "id": "4f40d02a-0546-42ff-9759-b9fbd36aa11a",
   "metadata": {},
   "source": [
    "# Resistive Temperature Device (RTD) Instrumentation "
   ]
  },
  {
   "cell_type": "code",
   "execution_count": 1,
   "id": "7f30e4b2-7900-4fbc-82a1-317a0d007b83",
   "metadata": {},
   "outputs": [],
   "source": [
    "import numpy as np"
   ]
  },
  {
   "cell_type": "code",
   "execution_count": null,
   "id": "a6addbc7-c368-4fa7-b115-556945debd9b",
   "metadata": {},
   "outputs": [],
   "source": []
  },
  {
   "cell_type": "code",
   "execution_count": null,
   "id": "c41b7cc0-e4d9-4bb6-8799-e9cf92152a9f",
   "metadata": {},
   "outputs": [],
   "source": []
  },
  {
   "cell_type": "markdown",
   "id": "14033cc9-1e62-4f3f-a024-003ac606d0ac",
   "metadata": {},
   "source": [
    "### Temperature Calculation\n",
    "- 3850 device."
   ]
  },
  {
   "cell_type": "code",
   "execution_count": 7,
   "id": "954b5ecd-ca50-498d-9623-f1f9efb0bc29",
   "metadata": {},
   "outputs": [],
   "source": [
    "a = 3.9083e-3\n",
    "b = -5.775e-7\n",
    "rO = 100"
   ]
  },
  {
   "cell_type": "code",
   "execution_count": 8,
   "id": "2523687b-37c0-4cee-bf8d-5752b1a15f6b",
   "metadata": {},
   "outputs": [],
   "source": [
    "tMax = 50\n",
    "tMin = -50"
   ]
  },
  {
   "cell_type": "code",
   "execution_count": 9,
   "id": "c8af37c1-24e9-4ce7-9418-081745903ea0",
   "metadata": {},
   "outputs": [
    {
     "name": "stdout",
     "output_type": "stream",
     "text": [
      "Expected Resistance Range: 80.31 : 119.40\n"
     ]
    }
   ],
   "source": [
    "rMax = rO*(1+a*tMax+b*tMax**2)\n",
    "rMin = rO*(1+a*tMin+b*tMin**2)\n",
    "\n",
    "print(f'Expected Resistance Range: {rMin:.2f} : {rMax:.2f}')"
   ]
  },
  {
   "cell_type": "code",
   "execution_count": 10,
   "id": "e55a96c6-9b1b-476c-b0c1-63c23b5161df",
   "metadata": {},
   "outputs": [],
   "source": [
    "def quad_solve(a,b,c):\n",
    "    s1 = (-b + np.sqrt(b**2-4*a*c))/(2*a)\n",
    "    s2 = (-b - np.sqrt(b**2-4*a*c))/(2*a)\n",
    "    return s1,s2\n",
    "    "
   ]
  },
  {
   "cell_type": "code",
   "execution_count": 11,
   "id": "2415fc02-7f6d-452a-995a-0bc06e897b76",
   "metadata": {},
   "outputs": [
    {
     "name": "stdout",
     "output_type": "stream",
     "text": [
      "Quad Solution for rMax: 50.00\n",
      "Quad Solution for rMin: -50.00\n"
     ]
    }
   ],
   "source": [
    "print(f'Quad Solution for rMax: {quad_solve(b,a,1-rMax/rO)[0]:.2f}')\n",
    "print(f'Quad Solution for rMin: {quad_solve(b,a,1-rMin/rO)[0]:.2f}')"
   ]
  },
  {
   "cell_type": "code",
   "execution_count": 12,
   "id": "6cfe3d5a-32ba-492a-a0f7-b434e144a86c",
   "metadata": {},
   "outputs": [
    {
     "name": "stdout",
     "output_type": "stream",
     "text": [
      "Linear Solution for rMax: 49.63\n",
      "Linear Solution for rMin: -50.37\n"
     ]
    }
   ],
   "source": [
    "tMaxLin = (rMax/rO-1)/a\n",
    "tMinLin = (rMin/rO-1)/a\n",
    "print(f'Linear Solution for rMax: {tMaxLin:.2f}')\n",
    "print(f'Linear Solution for rMin: {tMinLin:.2f}')"
   ]
  },
  {
   "cell_type": "code",
   "execution_count": null,
   "id": "6c7d28fa-12ee-4402-ade5-201590e5a9b3",
   "metadata": {},
   "outputs": [],
   "source": []
  },
  {
   "cell_type": "markdown",
   "id": "a3ab1a09-18b9-49ca-8d5e-9745ec0d7c32",
   "metadata": {},
   "source": [
    "### Measured Resistances"
   ]
  },
  {
   "cell_type": "code",
   "execution_count": 17,
   "id": "623fd746-b63f-46d9-9890-858a08ed870f",
   "metadata": {},
   "outputs": [],
   "source": [
    "rIce = 101 # Ice Bath\n",
    "rRoom = 108 # Room Temperature\n",
    "rBody = 114.5  # Body Temperature\n",
    "rO = 100 # Ideal RTD resistance at 0C"
   ]
  },
  {
   "cell_type": "code",
   "execution_count": 18,
   "id": "5216b4d8-4832-4cf8-96c1-10ca1b62e597",
   "metadata": {},
   "outputs": [
    {
     "name": "stdout",
     "output_type": "stream",
     "text": [
      "Quad Solution for rIce: 2.56\n",
      "Quad Solution for rRoom: 20.53\n",
      "Quad Solution for rBody: 37.31\n"
     ]
    }
   ],
   "source": [
    "print(f'Quad Solution for rIce: {quad_solve(b,a,1-rIce/rO)[0]:.2f}')\n",
    "print(f'Quad Solution for rRoom: {quad_solve(b,a,1-rRoom/rO)[0]:.2f}')\n",
    "print(f'Quad Solution for rBody: {quad_solve(b,a,1-rBody/rO)[0]:.2f}')"
   ]
  },
  {
   "cell_type": "code",
   "execution_count": null,
   "id": "fbcb2194-c73b-45fe-9f48-d6baa66769ac",
   "metadata": {},
   "outputs": [],
   "source": []
  },
  {
   "cell_type": "markdown",
   "id": "b37072ed-2a0b-45e6-bd93-4bf993cd6a7d",
   "metadata": {},
   "source": [
    "### ADC to Temperature Lookup Table"
   ]
  },
  {
   "cell_type": "code",
   "execution_count": 41,
   "id": "0c065f2d-9bb7-4311-82ea-15232234f971",
   "metadata": {},
   "outputs": [],
   "source": [
    "rSeries = 2650 # Series resistance for the RTD.\n",
    "vDd = 3.3  # MCU Vdd\n",
    "aV = 16 # Internal amplifier voltage gain.\n",
    "t = np.arange(-50,50.5,0.5) # Desired temperature range.\n",
    "adcBits = 12 # Number of ADC bits."
   ]
  },
  {
   "cell_type": "code",
   "execution_count": 42,
   "id": "d139afe6-ff8e-4dae-ac93-d6d392e7697e",
   "metadata": {},
   "outputs": [],
   "source": [
    "rRtd = rO*(1+a*t+b*t**2)"
   ]
  },
  {
   "cell_type": "code",
   "execution_count": 43,
   "id": "968b6a4c-3001-4f25-9ca8-1274461bf7e2",
   "metadata": {},
   "outputs": [],
   "source": [
    "vIn = rRtd/(rRtd+rSeries) * vDd * aV"
   ]
  },
  {
   "cell_type": "code",
   "execution_count": 44,
   "id": "02fb5356-ed47-4bc0-b486-9010e79c154d",
   "metadata": {},
   "outputs": [],
   "source": [
    "adcVal = (2**adcBits * vIn/vDd).astype('int')"
   ]
  },
  {
   "cell_type": "code",
   "execution_count": 47,
   "id": "eb240fa1-cdd8-4ec3-a520-d50ba901ce3a",
   "metadata": {},
   "outputs": [],
   "source": [
    "tFxPt = (t*2).astype('int')  # Represent temp as a Q7.1 fixed point number."
   ]
  },
  {
   "cell_type": "code",
   "execution_count": 57,
   "id": "ac895574-42e6-406c-ade0-13dfb11abba4",
   "metadata": {},
   "outputs": [
    {
     "name": "stdout",
     "output_type": "stream",
     "text": [
      "uint16_t rtdAdcToTemp[2][201] = {\n",
      "  { 1927, 1932, 1937, 1941, 1946, 1950, 1955, 1960, 1964, 1969, 1973, 1978, 1983, 1987, 1992, 1996, 2001, 2006, 2010, 2015, 2019, 2024, 2029, 2033, 2038, 2042, 2047, 2052, 2056, 2061, 2065, 2070, 2074, 2079, 2084, 2088, 2093, 2097, 2102, 2106, 2111, 2116, 2120, 2125, 2129, 2134, 2138, 2143, 2148, 2152, 2157, 2161, 2166, 2170, 2175, 2179, 2184, 2188, 2193, 2198, 2202, 2207, 2211, 2216, 2220, 2225, 2229, 2234, 2238, 2243, 2247, 2252, 2256, 2261, 2266, 2270, 2275, 2279, 2284, 2288, 2293, 2297, 2302, 2306, 2311, 2315, 2320, 2324, 2329, 2333, 2338, 2342, 2347, 2351, 2356, 2360, 2365, 2369, 2374, 2378, 2383, 2387, 2392, 2396, 2401, 2405, 2410, 2414, 2418, 2423, 2427, 2432, 2436, 2441, 2445, 2450, 2454, 2459, 2463, 2468, 2472, 2477, 2481, 2485, 2490, 2494, 2499, 2503, 2508, 2512, 2517, 2521, 2526, 2530, 2534, 2539, 2543, 2548, 2552, 2557, 2561, 2566, 2570, 2574, 2579, 2583, 2588, 2592, 2597, 2601, 2605, 2610, 2614, 2619, 2623, 2627, 2632, 2636, 2641, 2645, 2650, 2654, 2658, 2663, 2667, 2672, 2676, 2680, 2685, 2689, 2694, 2698, 2702, 2707, 2711, 2716, 2720, 2724, 2729, 2733, 2738, 2742, 2746, 2751, 2755, 2759, 2764, 2768, 2773, 2777, 2781, 2786, 2790, 2794, 2799, 2803, 2808, 2812, 2816, 2821, 2825 },\n",
      "  { -100, -99, -98, -97, -96, -95, -94, -93, -92, -91, -90, -89, -88, -87, -86, -85, -84, -83, -82, -81, -80, -79, -78, -77, -76, -75, -74, -73, -72, -71, -70, -69, -68, -67, -66, -65, -64, -63, -62, -61, -60, -59, -58, -57, -56, -55, -54, -53, -52, -51, -50, -49, -48, -47, -46, -45, -44, -43, -42, -41, -40, -39, -38, -37, -36, -35, -34, -33, -32, -31, -30, -29, -28, -27, -26, -25, -24, -23, -22, -21, -20, -19, -18, -17, -16, -15, -14, -13, -12, -11, -10, -9, -8, -7, -6, -5, -4, -3, -2, -1, 0, 1, 2, 3, 4, 5, 6, 7, 8, 9, 10, 11, 12, 13, 14, 15, 16, 17, 18, 19, 20, 21, 22, 23, 24, 25, 26, 27, 28, 29, 30, 31, 32, 33, 34, 35, 36, 37, 38, 39, 40, 41, 42, 43, 44, 45, 46, 47, 48, 49, 50, 51, 52, 53, 54, 55, 56, 57, 58, 59, 60, 61, 62, 63, 64, 65, 66, 67, 68, 69, 70, 71, 72, 73, 74, 75, 76, 77, 78, 79, 80, 81, 82, 83, 84, 85, 86, 87, 88, 89, 90, 91, 92, 93, 94, 95, 96, 97, 98, 99, 100 }\n",
      "};\n"
     ]
    }
   ],
   "source": [
    "# Output table C initialization code.\n",
    "nTemp = len(tFxPt)\n",
    "print(f'uint16_t rtdAdcToTemp[2][{nTemp}] = {{\\n  {{',end='')\n",
    "\n",
    "for i in range(nTemp):\n",
    "    print(f' {adcVal[i]},',end='')\n",
    "print('\\b },\\n  {',end='')\n",
    "\n",
    "for i in range(nTemp):\n",
    "    print(f' {tFxPt[i]},',end='')\n",
    "print('\\b }\\n};')\n"
   ]
  },
  {
   "cell_type": "code",
   "execution_count": null,
   "id": "f2619ccc-3de5-4438-bba1-5f083ac6e4fe",
   "metadata": {},
   "outputs": [],
   "source": []
  },
  {
   "cell_type": "code",
   "execution_count": null,
   "id": "7cabbd6c-b885-4782-a0cf-e4b225f1ad84",
   "metadata": {},
   "outputs": [],
   "source": []
  }
 ],
 "metadata": {
  "kernelspec": {
   "display_name": "Python 3 (ipykernel)",
   "language": "python",
   "name": "python3"
  },
  "language_info": {
   "codemirror_mode": {
    "name": "ipython",
    "version": 3
   },
   "file_extension": ".py",
   "mimetype": "text/x-python",
   "name": "python",
   "nbconvert_exporter": "python",
   "pygments_lexer": "ipython3",
   "version": "3.9.18"
  }
 },
 "nbformat": 4,
 "nbformat_minor": 5
}
